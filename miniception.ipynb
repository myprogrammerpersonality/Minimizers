{
 "cells": [
  {
   "cell_type": "code",
   "execution_count": 34,
   "metadata": {},
   "outputs": [
    {
     "data": {
      "text/plain": [
       "21"
      ]
     },
     "execution_count": 34,
     "metadata": {},
     "output_type": "execute_result"
    }
   ],
   "source": [
    "mapping = {\"A\": 0,\n",
    "           \"C\": 1,\n",
    "           \"G\": 2,\n",
    "           \"T\": 3}\n",
    "\n",
    "def order_kmer(seq):\n",
    "    order = 0\n",
    "    for i, letter in enumerate(seq[::-1]):\n",
    "        if letter not in mapping:\n",
    "            raise ValueError(\"Letter not in ACGT\")\n",
    "        order += 4**i * mapping[letter]\n",
    "    return order\n",
    "\n",
    "seq = \"CCC\"\n",
    "order_kmer(seq)\n"
   ]
  },
  {
   "cell_type": "code",
   "execution_count": 35,
   "metadata": {},
   "outputs": [
    {
     "data": {
      "text/plain": [
       "2"
      ]
     },
     "execution_count": 35,
     "metadata": {},
     "output_type": "execute_result"
    }
   ],
   "source": [
    "def find_minimizer_in_window(seq_window, k):\n",
    "    min_order = order_kmer(seq_window[:k])\n",
    "    min_pos = 0\n",
    "    for i in range(len(seq_window) - k + 1):\n",
    "        order = order_kmer(seq_window[i: i + k])\n",
    "        #print(i, order)\n",
    "        if order < min_order:\n",
    "            min_order = order\n",
    "            min_pos = i\n",
    "    \n",
    "    return min_pos\n",
    "\n",
    "seq = \"CCAAAACC\"\n",
    "k = 4\n",
    "find_minimizer_in_window(seq, k)"
   ]
  },
  {
   "cell_type": "code",
   "execution_count": 53,
   "metadata": {},
   "outputs": [
    {
     "data": {
      "text/plain": [
       "[2, 2, 2, 3]"
      ]
     },
     "execution_count": 53,
     "metadata": {},
     "output_type": "execute_result"
    }
   ],
   "source": [
    "def find_minimizers(seq, w, k):\n",
    "    minimizers = []\n",
    "    for window in range(len(seq) - (w + k - 1) + 1):\n",
    "        minimizers.append(find_minimizer_in_window(seq[window: window + (w + k - 1)], k) +  window)\n",
    "\n",
    "    return minimizers\n",
    "\n",
    "seq = \"CCAAACCCC\"\n",
    "w = 4\n",
    "k = 3\n",
    "find_minimizers(seq, w, k)"
   ]
  },
  {
   "cell_type": "code",
   "execution_count": 16,
   "metadata": {},
   "outputs": [
    {
     "name": "stdout",
     "output_type": "stream",
     "text": [
      "[-1, -3, -3, -3, 3, 3]\n"
     ]
    }
   ],
   "source": [
    "from collections import deque\n",
    "\n",
    "class MonotonicQueue:\n",
    "    def __init__(self):\n",
    "        self.deque = deque()\n",
    "    \n",
    "    def push(self, value):\n",
    "        while self.deque and self.deque[-1] > value:\n",
    "            self.deque.pop()\n",
    "        self.deque.append(value)\n",
    "    \n",
    "    def min(self):\n",
    "        return self.deque[0]\n",
    "    \n",
    "    def pop(self, value):\n",
    "        if self.deque and self.deque[0] == value:\n",
    "            self.deque.popleft()\n",
    "\n",
    "def min_sliding_window(nums, k):\n",
    "    mq = MonotonicQueue()\n",
    "    result = []\n",
    "    \n",
    "    for i in range(len(nums)):\n",
    "        if i >= k:\n",
    "            mq.pop(nums[i - k])\n",
    "        mq.push(nums[i])\n",
    "        if i >= k - 1:\n",
    "            result.append(mq.min())\n",
    "    \n",
    "    return result\n",
    "\n",
    "# Example usage:\n",
    "nums = [1, 3, -1, -3, 5, 3, 6, 7]\n",
    "k = 3\n",
    "print(min_sliding_window(nums, k))"
   ]
  },
  {
   "cell_type": "code",
   "execution_count": null,
   "metadata": {},
   "outputs": [],
   "source": [
    "from collections import deque\n",
    "\n",
    "class MonotonicQueue:\n",
    "    def __init__(self, values):\n",
    "        self.deque = deque()\n",
    "        self.values = values\n",
    "    \n",
    "    def push(self, index):\n",
    "        while self.deque and self.values[self.deque[-1]] > self.values[index]:\n",
    "            self.deque.pop()\n",
    "        self.deque.append(index)\n",
    "    \n",
    "    def min(self):\n",
    "        return self.deque[0]\n",
    "    \n",
    "    def pop(self, value):\n",
    "        if self.deque and self.deque[0] == value:\n",
    "            self.deque.popleft()\n",
    "\n",
    "\n",
    "def min_sliding_window(nums, k):\n",
    "    mq = MonotonicQueue()\n",
    "    result = []\n",
    "    \n",
    "    for i in range(len(nums)):\n",
    "        if i >= k:\n",
    "            mq.pop(nums[i - k])\n",
    "        mq.push(nums[i])\n",
    "        if i >= k - 1:\n",
    "            result.append(mq.min())\n",
    "    \n",
    "    return result\n",
    "\n",
    "# Example usage:\n",
    "nums = [1, 3, -1, -3, 5, 3, 6, 7]\n",
    "k = 3\n",
    "print(min_sliding_window(nums, k))"
   ]
  },
  {
   "cell_type": "code",
   "execution_count": 27,
   "metadata": {},
   "outputs": [
    {
     "name": "stdout",
     "output_type": "stream",
     "text": [
      "deq: deque([3]), deq[0]: 3, value: -3\n",
      "deq: deque([3, 4]), deq[0]: 3, value: -3\n",
      "deq: deque([3, 5]), deq[0]: 3, value: -3\n",
      "deq: deque([3, 5, 6]), deq[0]: 3, value: -3\n",
      "deq: deque([5, 6, 7]), deq[0]: 5, value: 3\n"
     ]
    },
    {
     "data": {
      "text/plain": [
       "[-3, -3, -3, -3, 3]"
      ]
     },
     "execution_count": 27,
     "metadata": {},
     "output_type": "execute_result"
    }
   ],
   "source": [
    "from collections import deque\n",
    "from typing import List\n",
    "\n",
    "def minSlidingWindow(nums: List[int], k: int) -> List[int]:\n",
    "\n",
    "    deq = deque()\n",
    "    result = []\n",
    "    left = 0\n",
    "\n",
    "    for right in range(len(nums)):\n",
    "        # pop larger elements\n",
    "        while deq and nums[right] < nums[deq[-1]]:\n",
    "            deq.pop()\n",
    "        \n",
    "        # add new element to queue\n",
    "        deq.append(right)\n",
    "\n",
    "        # pop expired values\n",
    "        if left > deq[0]:\n",
    "            deq.popleft()\n",
    "        \n",
    "        # start appending the result\n",
    "        if right >= k - 1:\n",
    "            print(f\"deq: {deq}, deq[0]: {deq[0]}, value: {nums[deq[0]]}\")\n",
    "            result.append(nums[deq[0]])\n",
    "            left += 1\n",
    "    \n",
    "    return result\n",
    "\n",
    "\n",
    "# Example usage:\n",
    "nums = [1, 3, -1, -3, 5, 3, 9, 12]\n",
    "k = 4\n",
    "\n",
    "minSlidingWindow(nums, k)"
   ]
  },
  {
   "cell_type": "code",
   "execution_count": 37,
   "metadata": {},
   "outputs": [
    {
     "data": {
      "text/plain": [
       "[2]"
      ]
     },
     "execution_count": 37,
     "metadata": {},
     "output_type": "execute_result"
    }
   ],
   "source": [
    "from collections import deque\n",
    "from typing import List\n",
    "\n",
    "def minimizerSlidingWindow(seq: List[int], w: int, k: int) -> List[int]:\n",
    "\n",
    "    deq = deque()\n",
    "    result = []\n",
    "    left = 0\n",
    "\n",
    "    for right in range(len(seq) - k + 1):\n",
    "        #print(f\"deq: {deq}\")\n",
    "        # pop larger elements\n",
    "        while deq and order_kmer(seq[right: right + k]) < \\\n",
    "                      order_kmer(seq[deq[-1]: deq[-1] + k]):\n",
    "            deq.pop()\n",
    "        \n",
    "        # add new element to queue\n",
    "        deq.append(right)\n",
    "\n",
    "        # pop expired values\n",
    "        if left > deq[0]:\n",
    "            deq.popleft()\n",
    "        \n",
    "        # start appending the result\n",
    "        if right >= w - 1:\n",
    "            #print(f\"## deq: {deq}, deq[0]: {deq[0]}\")\n",
    "            result.append(deq[0])\n",
    "            left += 1\n",
    "    \n",
    "    return result\n",
    "\n",
    "\n",
    "# Example usage:\n",
    "seq = \"TCAAAT\"\n",
    "w = 4\n",
    "k = 3\n",
    "\n",
    "\n",
    "minimizerSlidingWindow(seq, w, k)"
   ]
  },
  {
   "cell_type": "code",
   "execution_count": 45,
   "metadata": {},
   "outputs": [
    {
     "data": {
      "text/plain": [
       "'CAGCACACGA'"
      ]
     },
     "execution_count": 45,
     "metadata": {},
     "output_type": "execute_result"
    }
   ],
   "source": [
    "# benchmark naive vs mono-queue\n",
    "import random\n",
    "\n",
    "seq = \"\".join([random.choice(\"ATGC\") for i in range(10)])\n",
    "w = 4\n",
    "k = 3\n",
    "\n",
    "seq"
   ]
  },
  {
   "cell_type": "code",
   "execution_count": 52,
   "metadata": {},
   "outputs": [
    {
     "data": {
      "text/plain": [
       "17"
      ]
     },
     "execution_count": 52,
     "metadata": {},
     "output_type": "execute_result"
    }
   ],
   "source": [
    "order_kmer(\"CAC\")"
   ]
  },
  {
   "cell_type": "code",
   "execution_count": 47,
   "metadata": {},
   "outputs": [
    {
     "name": "stdout",
     "output_type": "stream",
     "text": [
      "[1, 4, 4, 4, 4]\n",
      "[4, 3, 2, 1, 0]\n"
     ]
    }
   ],
   "source": [
    "seq = \"CAGCACACGA\"\n",
    "\n",
    "print(minimizerSlidingWindow(seq, w, k))\n",
    "\n",
    "print(find_minimizers(seq, w, k))"
   ]
  }
 ],
 "metadata": {
  "kernelspec": {
   "display_name": "Python 3",
   "language": "python",
   "name": "python3"
  },
  "language_info": {
   "codemirror_mode": {
    "name": "ipython",
    "version": 3
   },
   "file_extension": ".py",
   "mimetype": "text/x-python",
   "name": "python",
   "nbconvert_exporter": "python",
   "pygments_lexer": "ipython3",
   "version": "3.12.3"
  }
 },
 "nbformat": 4,
 "nbformat_minor": 2
}
